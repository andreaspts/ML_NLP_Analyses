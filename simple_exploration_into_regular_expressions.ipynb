{
 "cells": [
  {
   "cell_type": "markdown",
   "metadata": {},
   "source": [
    "# Natural Language Processing - Regular expressions\n",
    "\n",
    "In the following we explore to a small extent the notion of regular expressions in Natural language processing (NLP). \n",
    "\n",
    "NLP deals with the interaction between natural human languages and computers. It is an important aspect of machine learning.\n",
    "\n",
    "Regular expressions are a method of precisely describing patterns of text. A regular expression corresponds to a specific text string with the purpose of constructing search patterns on selections of text."
   ]
  },
  {
   "cell_type": "code",
   "execution_count": 207,
   "metadata": {},
   "outputs": [],
   "source": [
    "#import necessary packages\n",
    "import re"
   ]
  },
  {
   "cell_type": "markdown",
   "metadata": {},
   "source": [
    "## 1) Warm-up: Extracting simple expressions from strings"
   ]
  },
  {
   "cell_type": "code",
   "execution_count": 13,
   "metadata": {},
   "outputs": [
    {
     "name": "stdout",
     "output_type": "stream",
     "text": [
      "['5', '5']\n"
     ]
    }
   ],
   "source": [
    "#check if integers occur at all\n",
    "#define string\n",
    "string = \"For 5 dumplings I have paid 6.50$.\"\n",
    "\n",
    "string_to_be_checked_for = \"[1,5,6,9]\" #alternatively for intervals \"[0-9]\", \"[0-3,6-9]\" etc.\n",
    "p = re.compile(string_to_be_checked_for)\n",
    "\n",
    "#to check if the string to be checked for is part of the above string\n",
    "print(p.findall(string))"
   ]
  },
  {
   "cell_type": "code",
   "execution_count": 9,
   "metadata": {},
   "outputs": [
    {
     "data": {
      "text/plain": [
       "list"
      ]
     },
     "execution_count": 9,
     "metadata": {},
     "output_type": "execute_result"
    }
   ],
   "source": [
    "#to see that a list of strings is reported\n",
    "type(p.findall(string))"
   ]
  },
  {
   "cell_type": "code",
   "execution_count": 31,
   "metadata": {},
   "outputs": [
    {
     "name": "stdout",
     "output_type": "stream",
     "text": [
      "[' 1 ']\n",
      "[' 5 ']\n",
      "[' 15 ']\n"
     ]
    }
   ],
   "source": [
    "#looking for groups of numbers with spaces in strings add +\n",
    "\n",
    "strings = [\"For 1 dumpling I have paid 6.50$.\", \"For 5 dumplings I have paid 5.00€.\", \"For 15 dumplings I have paid 12.00€.\"]\n",
    "\n",
    "string_to_be_checked_for = \" [0-9]+ \"\n",
    "\n",
    "p = re.compile(string_to_be_checked_for)\n",
    "\n",
    "for string in strings:\n",
    "    #to check if the string to be checked for is part of the above list of strings\n",
    "    print(p.findall(string))"
   ]
  },
  {
   "cell_type": "code",
   "execution_count": 41,
   "metadata": {},
   "outputs": [
    {
     "name": "stdout",
     "output_type": "stream",
     "text": [
      "[]\n",
      "['5.00€']\n",
      "['12.00€']\n"
     ]
    }
   ],
   "source": [
    "#looking for restricted groups of numbers \n",
    "\n",
    "strings = [\"For 1 dumpling I have paid 6.50999999$.\",\n",
    "           \"For 5 dumplings I have paid 5.00€.\",\n",
    "           \"For 15 dumplings I have paid 12.00€.\"]\n",
    "\n",
    "string_to_be_checked_for = \"[0-9]+[\\.,][0-9]{2}[€$]\"\n",
    "\n",
    "p = re.compile(string_to_be_checked_for)\n",
    "\n",
    "for string in strings:\n",
    "    #to check if the string to be checked for is part of the above list of strings\n",
    "    print(p.findall(string))"
   ]
  },
  {
   "cell_type": "code",
   "execution_count": 33,
   "metadata": {},
   "outputs": [
    {
     "name": "stdout",
     "output_type": "stream",
     "text": [
      "['6.50$']\n",
      "['5,00€']\n",
      "['12.00€']\n",
      "The price list is: ['6.50$', '5,00€', '12.00€']\n"
     ]
    }
   ],
   "source": [
    "#check for (more complex) expressions with numbers (like prices)\n",
    "#define string\n",
    "strings = [\"For 5 dumplings I have paid 6.50$.\", \"For 5 dumplings I have paid 5,00€.\", \"For 15 dumplings I have paid 12.00€.\"]\n",
    "\n",
    "string_to_be_checked_for = \"[0-9]+[\\.,][0-9]+[€$]\"\n",
    "\n",
    "p = re.compile(string_to_be_checked_for)\n",
    "\n",
    "pricelist = []\n",
    "\n",
    "for string in strings:\n",
    "    #to check if the string to be checked for is part of the above list of strings\n",
    "    print(p.findall(string))\n",
    "    #append to price list\n",
    "    pricelist.append(p.findall(string)[0])\n",
    "    \n",
    "print(\"The price list is: \" + str(pricelist))"
   ]
  },
  {
   "cell_type": "code",
   "execution_count": 36,
   "metadata": {},
   "outputs": [
    {
     "name": "stdout",
     "output_type": "stream",
     "text": [
      "['6.50']\n",
      "['5,00€']\n",
      "['12.00€']\n",
      "['12.00$']\n",
      "The price list is: ['6.50', '5,00€', '12.00€', '12.00$']\n"
     ]
    }
   ],
   "source": [
    "#if a symbol is optional (like currency symbol) add ?\n",
    "\n",
    "strings = [\"For 5 dumplings I have paid 6.50.\", \n",
    "           \"For 5 dumplings I have paid 5,00€.\", \n",
    "           \"For 15 dumplings I have paid 12.00€.\",\n",
    "           \"For 13 dumplings I have paid 12.00$.\",\n",
    "          ]\n",
    "\n",
    "string_to_be_checked_for = \"[0-9]+[\\.,][0-9]+[€$]?\"\n",
    "\n",
    "p = re.compile(string_to_be_checked_for)\n",
    "\n",
    "pricelist = []\n",
    "\n",
    "for string in strings:\n",
    "    #to check if the string to be checked for is part of the above list of strings\n",
    "    print(p.findall(string))\n",
    "    pricelist.append(p.findall(string)[0])\n",
    "    \n",
    "print(\"The price list is: \" + str(pricelist))"
   ]
  },
  {
   "cell_type": "markdown",
   "metadata": {},
   "source": [
    "## 2) Extracting e-mail addresses"
   ]
  },
  {
   "cell_type": "code",
   "execution_count": 60,
   "metadata": {},
   "outputs": [
    {
     "name": "stdout",
     "output_type": "stream",
     "text": [
      "['hello@world.com']\n",
      "['info@world.com']\n",
      "['event@lala.comHello']\n",
      "The e-mail list is: ['hello@world.com', 'info@world.com', 'event@lala.comHello']\n"
     ]
    }
   ],
   "source": [
    "#first/crude attempt\n",
    "string_to_be_checked_for = \"[a-zA-Z0-9]+[@][a-zA-Z0-9]+[\\.]{1}[a-zA-Z]+\"\n",
    "\n",
    "p = re.compile(string_to_be_checked_for)\n",
    "\n",
    "sentences = [\"My e-email address is hello@world.com\",\n",
    "             \"Please, don't write e-mails to info@world.com\",\n",
    "             \"On Saturday there will be an event at the Hotel Lala. If you would like to attend, send an email to event@lala.com\"\n",
    "             \"Hello hello.\"\n",
    "            ]\n",
    "\n",
    "emaillist = []\n",
    "for string in sentences:\n",
    "    #to check if the string to be checked for is part of the above list of strings\n",
    "    print(p.findall(string))\n",
    "    emaillist.append(p.findall(string)[0])\n",
    "    \n",
    "print(\"The e-mail list is: \" + str(emaillist))"
   ]
  },
  {
   "cell_type": "markdown",
   "metadata": {},
   "source": [
    "## 3) Extracting dates\n"
   ]
  },
  {
   "cell_type": "code",
   "execution_count": 171,
   "metadata": {},
   "outputs": [
    {
     "name": "stdout",
     "output_type": "stream",
     "text": [
      "The list of dates is: ['2018/14/05', '07/2018', '05.06.2011', '04.06.2019']\n"
     ]
    }
   ],
   "source": [
    "date_to_be_checked_for1 = \"[0-9]{4}[\\/][0-9]{2}[\\/][0-9]{2}\"\n",
    "date_to_be_checked_for2 = \"[0-9]{2}[\\.][0-9]{2}[\\.][0-9]{4}\"\n",
    "date_to_be_checked_for3 = \"[0-9]{2}[\\/][0-9]{4}\"\n",
    "date_to_be_checked_for4 = \"[0-9]{2}[\\/][0-9]{2}[\\/][0-9]{4}\"\n",
    "\n",
    "p1 = re.compile(date_to_be_checked_for1)\n",
    "p2 = re.compile(date_to_be_checked_for2)\n",
    "p3 = re.compile(date_to_be_checked_for3)\n",
    "p4 = re.compile(date_to_be_checked_for4)\n",
    "\n",
    "dateformats = [p1, p2, p3, p4]\n",
    "\n",
    "sentences = [\"The appointment is on 2018/14/05.\",\n",
    "             \"The other apppointment should be scheduled for 07/2018\",\n",
    "             \"On 05.06.2011 there was a major fire.\"\n",
    "             \"You've just won the jackpot of 10.000.000$.\"\n",
    "             \"There is a cool event on 04.06.2019.\"\n",
    "             #\"Tomorrow, 25/02/1999, there will be a celebration.\"\n",
    "            ]\n",
    "\n",
    "datelist1 = []\n",
    "for string in sentences:\n",
    "     for p in dateformats:\n",
    "        finding = p.findall(string)\n",
    "        if finding:\n",
    "            #print(p.findall(string))\n",
    "            datelist1.append(p.findall(string))\n",
    "            \n",
    "datelist = []\n",
    "for sublist in datelist1:\n",
    "    for val in sublist:\n",
    "        datelist.append(val)\n",
    "\n",
    "print(\"The list of dates is: \" + str(datelist))"
   ]
  },
  {
   "cell_type": "code",
   "execution_count": 206,
   "metadata": {},
   "outputs": [
    {
     "name": "stdout",
     "output_type": "stream",
     "text": [
      "14.05.2018\n",
      "01.07.2018\n",
      "05.06.2011\n",
      "04.06.2019\n"
     ]
    }
   ],
   "source": [
    "#if the way to write dates is truely finite and we would like to uniformize it\n",
    "\n",
    "from datetime import datetime\n",
    "\n",
    "date_to_be_checked_for1 = \"[0-9]{4}[\\/][0-9]{2}[\\/][0-9]{2}\"\n",
    "date_to_be_checked_for2 = \"[0-9]{2}[\\.][0-9]{2}[\\.][0-9]{4}\"\n",
    "date_to_be_checked_for3 = \"[0-9]{2}[\\/][0-9]{4}\"\n",
    "date_to_be_checked_for4 = \"[0-9]{2}[\\/][0-9]{2}[\\/][0-9]{4}\"\n",
    "\n",
    "p1 = re.compile(date_to_be_checked_for1)\n",
    "p2 = re.compile(date_to_be_checked_for2)\n",
    "p3 = re.compile(date_to_be_checked_for3)\n",
    "p4 = re.compile(date_to_be_checked_for4)\n",
    "\n",
    "dates = [] \n",
    "\n",
    "for string in sentences:\n",
    "    \n",
    "    finding1 = p1.findall(string)\n",
    "    finding2 = p2.findall(string)\n",
    "    finding3 = p3.findall(string)\n",
    "    finding4 = p4.findall(string)\n",
    "   \n",
    "    if finding1:\n",
    "        for i in range(0,len(finding1)):\n",
    "            dates.append(datetime.strptime((finding1[i]), \"%Y/%d/%m\"))\n",
    "    \n",
    "    elif finding2:\n",
    "        for i in range(0,len(finding2)):\n",
    "            dates.append(datetime.strptime((finding2[i]), \"%d.%m.%Y\"))\n",
    "        \n",
    "    elif finding3:\n",
    "        for i in range(0,len(finding3)):\n",
    "            dates.append(datetime.strptime((finding3[i]), \"%m/%Y\"))\n",
    "        \n",
    "    elif finding4:\n",
    "        for i in range(0,len(finding4)):\n",
    "            dates.append(datetime.strptime((finding4[i]), \"%d/%m/%Y\"))\n",
    "\n",
    "#to convert into European date formate \n",
    "for date in dates:\n",
    "    print(date.strftime(\"%d.%m.%Y\"))"
   ]
  }
 ],
 "metadata": {
  "kernelspec": {
   "display_name": "Python 3",
   "language": "python",
   "name": "python3"
  },
  "language_info": {
   "codemirror_mode": {
    "name": "ipython",
    "version": 3
   },
   "file_extension": ".py",
   "mimetype": "text/x-python",
   "name": "python",
   "nbconvert_exporter": "python",
   "pygments_lexer": "ipython3",
   "version": "3.6.7"
  }
 },
 "nbformat": 4,
 "nbformat_minor": 2
}
